{
 "cells": [
  {
   "cell_type": "code",
   "execution_count": 43,
   "id": "4f0817dc",
   "metadata": {},
   "outputs": [],
   "source": [
    "import pandas as pd\n",
    "import numpy as np\n",
    "\n",
    "from sklearn.model_selection import train_test_split\n",
    "from sklearn.ensemble import RandomForestClassifier\n",
    "\n",
    "from sktime.datatypes._panel._convert import from_2d_array_to_nested, from_nested_to_2d_array\n",
    "from sktime.classification.kernel_based import RocketClassifier\n",
    "\n",
    "pd.options.mode.chained_assignment = None"
   ]
  },
  {
   "cell_type": "code",
   "execution_count": 44,
   "id": "db3c97af",
   "metadata": {},
   "outputs": [],
   "source": [
    "Train = pd.read_csv(\"content/train_dataset_train.csv\")\n",
    "Test = pd.read_csv(\"content/test_dataset_test.csv\")"
   ]
  },
  {
   "cell_type": "code",
   "execution_count": 45,
   "id": "1b5d2c0b",
   "metadata": {},
   "outputs": [],
   "source": [
    "Train = Train[Train.columns.sort_values()]\n",
    "Train = Train.set_index('id')\n",
    "Train = Train.drop([\".geo\",\"area\"], axis = 1)"
   ]
  },
  {
   "cell_type": "code",
   "execution_count": 46,
   "id": "4d8313a4",
   "metadata": {},
   "outputs": [],
   "source": [
    "Test = Test[Test.columns.sort_values()]\n",
    "Test = Test.set_index('id')\n",
    "Test = Test.drop([\".geo\",\"area\"], axis = 1)"
   ]
  },
  {
   "cell_type": "code",
   "execution_count": 47,
   "id": "b1710bf3",
   "metadata": {},
   "outputs": [],
   "source": [
    "X = Train.drop('crop', axis =1)\n",
    "X = from_2d_array_to_nested(X, index = X.index)\n",
    "y = Train['crop'].astype('category')\n",
    "Test = from_2d_array_to_nested(Test, index = Test.index)"
   ]
  },
  {
   "cell_type": "code",
   "execution_count": 48,
   "id": "6d4b608a",
   "metadata": {},
   "outputs": [],
   "source": [
    "classifier = RocketClassifier()"
   ]
  },
  {
   "cell_type": "code",
   "execution_count": 49,
   "id": "b6966ddd",
   "metadata": {},
   "outputs": [
    {
     "name": "stdout",
     "output_type": "stream",
     "text": [
      "CPU times: user 1min 41s, sys: 16.1 s, total: 1min 57s\n",
      "Wall time: 43.7 s\n"
     ]
    },
    {
     "data": {
      "text/plain": [
       "RocketClassifier()"
      ]
     },
     "execution_count": 49,
     "metadata": {},
     "output_type": "execute_result"
    }
   ],
   "source": [
    "%%time\n",
    "classifier.fit(X, y)"
   ]
  },
  {
   "cell_type": "code",
   "execution_count": 50,
   "id": "8a000e02",
   "metadata": {},
   "outputs": [],
   "source": [
    "y_pred = classifier.predict(Test)"
   ]
  },
  {
   "cell_type": "code",
   "execution_count": 51,
   "id": "a124fbad",
   "metadata": {},
   "outputs": [],
   "source": [
    "res = Test.drop(0, axis = 1).join(pd.DataFrame(y_pred).set_index(Test.index)).rename(columns = {0 : 'crop'})"
   ]
  },
  {
   "cell_type": "markdown",
   "id": "b2db0a33",
   "metadata": {},
   "source": [
    "### ------------------------------------------------------------------------------------------"
   ]
  },
  {
   "cell_type": "code",
   "execution_count": 52,
   "id": "1f91b12f",
   "metadata": {},
   "outputs": [],
   "source": [
    "Test = pd.read_csv(\"content/test_dataset_test.csv\")\n",
    "Test = Test[Test.columns.sort_values()]\n",
    "Test = Test.set_index('id')\n",
    "Test = Test.drop([\".geo\",\"area\"], axis = 1)"
   ]
  },
  {
   "cell_type": "code",
   "execution_count": 53,
   "id": "bf5ce349",
   "metadata": {},
   "outputs": [],
   "source": [
    "Test = Test.join(res)"
   ]
  },
  {
   "cell_type": "code",
   "execution_count": 54,
   "id": "77bda2c9",
   "metadata": {},
   "outputs": [],
   "source": [
    "col = Train.columns.to_list()\n",
    "col = col[1:]\n",
    "col.append('crop')\n",
    "Test.columns = col"
   ]
  },
  {
   "cell_type": "code",
   "execution_count": 55,
   "id": "9df73257",
   "metadata": {},
   "outputs": [],
   "source": [
    "data = pd.concat([Train,Test],axis = 0)"
   ]
  },
  {
   "cell_type": "code",
   "execution_count": 56,
   "id": "b5e60f56",
   "metadata": {
    "scrolled": true
   },
   "outputs": [],
   "source": [
    "for i in range(7):\n",
    "    for j in range(1,71):\n",
    "        data.iloc[:,j][(data.iloc[:,j] <= 0.05) & (data['crop'] == i)] = data.iloc[:,j][(data.iloc[:,j] > 0.05) & (data['crop'] == i)].mean()"
   ]
  },
  {
   "cell_type": "code",
   "execution_count": 57,
   "id": "aec3bbbb",
   "metadata": {},
   "outputs": [],
   "source": [
    "Test = data.loc[Test.index].drop('crop', axis = 1)\n",
    "Train = data.loc[Train.index]"
   ]
  },
  {
   "cell_type": "code",
   "execution_count": 58,
   "id": "de7b4495",
   "metadata": {},
   "outputs": [],
   "source": [
    "X = Train.drop('crop', axis = 1)\n",
    "y = Train['crop'].astype('category')"
   ]
  },
  {
   "cell_type": "code",
   "execution_count": 59,
   "id": "3e1aa127",
   "metadata": {},
   "outputs": [],
   "source": [
    "rfc = RandomForestClassifier()"
   ]
  },
  {
   "cell_type": "code",
   "execution_count": 60,
   "id": "9e70168e",
   "metadata": {},
   "outputs": [
    {
     "name": "stdout",
     "output_type": "stream",
     "text": [
      "CPU times: user 1.17 s, sys: 0 ns, total: 1.17 s\n",
      "Wall time: 1.17 s\n"
     ]
    },
    {
     "data": {
      "text/plain": [
       "RandomForestClassifier()"
      ]
     },
     "execution_count": 60,
     "metadata": {},
     "output_type": "execute_result"
    }
   ],
   "source": [
    "%%time\n",
    "rfc.fit(X, y)"
   ]
  },
  {
   "cell_type": "code",
   "execution_count": 61,
   "id": "9e252fd8",
   "metadata": {},
   "outputs": [],
   "source": [
    "y_pred = rfc.predict(Test)"
   ]
  },
  {
   "cell_type": "code",
   "execution_count": 62,
   "id": "d33d9e46",
   "metadata": {},
   "outputs": [],
   "source": [
    "test = pd.read_csv(\"content/test_dataset_test.csv\")"
   ]
  },
  {
   "cell_type": "code",
   "execution_count": 63,
   "id": "7972d030",
   "metadata": {},
   "outputs": [],
   "source": [
    "test.join(pd.DataFrame(y_pred)).set_index('id').rename(columns = {0 : 'crop'})['crop'].to_csv('rf.csv')"
   ]
  }
 ],
 "metadata": {
  "kernelspec": {
   "display_name": "Python 3 (ipykernel)",
   "language": "python",
   "name": "python3"
  },
  "language_info": {
   "codemirror_mode": {
    "name": "ipython",
    "version": 3
   },
   "file_extension": ".py",
   "mimetype": "text/x-python",
   "name": "python",
   "nbconvert_exporter": "python",
   "pygments_lexer": "ipython3",
   "version": "3.9.12"
  },
  "nbTranslate": {
   "displayLangs": [
    "ru",
    "en"
   ],
   "hotkey": "alt-t",
   "langInMainMenu": true,
   "sourceLang": "en",
   "targetLang": "ru",
   "useGoogleTranslate": true
  }
 },
 "nbformat": 4,
 "nbformat_minor": 5
}
